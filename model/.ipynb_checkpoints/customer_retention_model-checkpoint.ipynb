{
 "cells": [
  {
   "cell_type": "markdown",
   "metadata": {},
   "source": [
    "#### This Model leverages Random Forest Alogorithm to predict whether or not a Car Insurance Company would be able to retain it's existing Customers based on the Historical Data it has. \n",
    "\n",
    "#### The Dataset contains Customer Information like Marital Status, Age, Gender, Car Value, Price etc., based on which  makes Prediction.\n",
    "\n",
    "#### The various Steps performed to predict Customer Retention are as below:\n",
    "- Importing required modules and loading the data file\n",
    "- Identifying Anomalies/ Missing Data\n",
    "- Getting Relational Insights of Features\n",
    "- Converting Categorical Data to Numeric Data\n",
    "- Creating Training and Testing Sets\n",
    "- Training the Model\n",
    "- Make Predictions on Test Data\n",
    "- Determining Performance Metrics\n",
    "- Finding Variable Importance\n",
    "- Plotting Variable Importance\n",
    "- Improving the Model by Hyperparameter Tuning\n",
    "- Evaluating Random Search\n"
   ]
  },
  {
   "cell_type": "markdown",
   "metadata": {},
   "source": [
    "## Import required modules and load data file"
   ]
  },
  {
   "cell_type": "code",
   "execution_count": 1,
   "metadata": {},
   "outputs": [
    {
     "data": {
      "text/html": [
       "<div>\n",
       "<style scoped>\n",
       "    .dataframe tbody tr th:only-of-type {\n",
       "        vertical-align: middle;\n",
       "    }\n",
       "\n",
       "    .dataframe tbody tr th {\n",
       "        vertical-align: top;\n",
       "    }\n",
       "\n",
       "    .dataframe thead th {\n",
       "        text-align: right;\n",
       "    }\n",
       "</style>\n",
       "<table border=\"1\" class=\"dataframe\">\n",
       "  <thead>\n",
       "    <tr style=\"text-align: right;\">\n",
       "      <th></th>\n",
       "      <th>Marital Status</th>\n",
       "      <th>AGE</th>\n",
       "      <th>Gender</th>\n",
       "      <th>Car Value</th>\n",
       "      <th>Years of No Claims Bonus</th>\n",
       "      <th>Annual Mileage</th>\n",
       "      <th>Payment Method</th>\n",
       "      <th>Acquisition Channel</th>\n",
       "      <th>Years of Tenure with Current Provider</th>\n",
       "      <th>Price</th>\n",
       "      <th>Actual Change in Price vs last Year</th>\n",
       "      <th>% Change in Price vs last Year</th>\n",
       "      <th>Grouped Change in Price</th>\n",
       "      <th>Renewed?</th>\n",
       "    </tr>\n",
       "  </thead>\n",
       "  <tbody>\n",
       "    <tr>\n",
       "      <th>0</th>\n",
       "      <td>M</td>\n",
       "      <td>45</td>\n",
       "      <td>F</td>\n",
       "      <td>500</td>\n",
       "      <td>4</td>\n",
       "      <td>6000</td>\n",
       "      <td>Monthly</td>\n",
       "      <td>Inbound</td>\n",
       "      <td>4</td>\n",
       "      <td>289.4</td>\n",
       "      <td>-11.94</td>\n",
       "      <td>-3.96%</td>\n",
       "      <td>-0.05</td>\n",
       "      <td>0</td>\n",
       "    </tr>\n",
       "    <tr>\n",
       "      <th>1</th>\n",
       "      <td>M</td>\n",
       "      <td>40</td>\n",
       "      <td>M</td>\n",
       "      <td>3000</td>\n",
       "      <td>8</td>\n",
       "      <td>6000</td>\n",
       "      <td>Monthly</td>\n",
       "      <td>Inbound</td>\n",
       "      <td>4</td>\n",
       "      <td>170.4</td>\n",
       "      <td>45.62</td>\n",
       "      <td>37%</td>\n",
       "      <td>0.35</td>\n",
       "      <td>1</td>\n",
       "    </tr>\n",
       "    <tr>\n",
       "      <th>2</th>\n",
       "      <td>S</td>\n",
       "      <td>25</td>\n",
       "      <td>F</td>\n",
       "      <td>4000</td>\n",
       "      <td>4</td>\n",
       "      <td>4000</td>\n",
       "      <td>Monthly</td>\n",
       "      <td>Inbound</td>\n",
       "      <td>4</td>\n",
       "      <td>466.1</td>\n",
       "      <td>-123.15</td>\n",
       "      <td>-21%</td>\n",
       "      <td>-0.2</td>\n",
       "      <td>1</td>\n",
       "    </tr>\n",
       "    <tr>\n",
       "      <th>3</th>\n",
       "      <td>M</td>\n",
       "      <td>42</td>\n",
       "      <td>M</td>\n",
       "      <td>1800</td>\n",
       "      <td>9</td>\n",
       "      <td>10000</td>\n",
       "      <td>Annual</td>\n",
       "      <td>Inbound</td>\n",
       "      <td>4</td>\n",
       "      <td>245.1</td>\n",
       "      <td>2.34</td>\n",
       "      <td>1%</td>\n",
       "      <td>0</td>\n",
       "      <td>1</td>\n",
       "    </tr>\n",
       "    <tr>\n",
       "      <th>4</th>\n",
       "      <td>M</td>\n",
       "      <td>59</td>\n",
       "      <td>M</td>\n",
       "      <td>5000</td>\n",
       "      <td>9</td>\n",
       "      <td>3000</td>\n",
       "      <td>Annual</td>\n",
       "      <td>Inbound</td>\n",
       "      <td>4</td>\n",
       "      <td>240.5</td>\n",
       "      <td>42.56</td>\n",
       "      <td>22%</td>\n",
       "      <td>0.2</td>\n",
       "      <td>0</td>\n",
       "    </tr>\n",
       "  </tbody>\n",
       "</table>\n",
       "</div>"
      ],
      "text/plain": [
       "  Marital Status  AGE Gender  Car Value  Years of No Claims Bonus  \\\n",
       "0              M   45      F        500                         4   \n",
       "1              M   40      M       3000                         8   \n",
       "2              S   25      F       4000                         4   \n",
       "3              M   42      M       1800                         9   \n",
       "4              M   59      M       5000                         9   \n",
       "\n",
       "   Annual Mileage Payment Method Acquisition Channel  \\\n",
       "0            6000        Monthly             Inbound   \n",
       "1            6000        Monthly             Inbound   \n",
       "2            4000        Monthly             Inbound   \n",
       "3           10000         Annual             Inbound   \n",
       "4            3000         Annual             Inbound   \n",
       "\n",
       "   Years of Tenure with Current Provider  Price  \\\n",
       "0                                      4  289.4   \n",
       "1                                      4  170.4   \n",
       "2                                      4  466.1   \n",
       "3                                      4  245.1   \n",
       "4                                      4  240.5   \n",
       "\n",
       "  Actual Change in Price vs last Year % Change in Price vs last Year  \\\n",
       "0                              -11.94                         -3.96%   \n",
       "1                               45.62                            37%   \n",
       "2                             -123.15                           -21%   \n",
       "3                                2.34                             1%   \n",
       "4                               42.56                            22%   \n",
       "\n",
       "  Grouped Change in Price  Renewed?  \n",
       "0                   -0.05         0  \n",
       "1                    0.35         1  \n",
       "2                    -0.2         1  \n",
       "3                       0         1  \n",
       "4                     0.2         0  "
      ]
     },
     "execution_count": 1,
     "metadata": {},
     "output_type": "execute_result"
    }
   ],
   "source": [
    "%matplotlib notebook\n",
    "import numpy as np\n",
    "import matplotlib.pyplot as plt\n",
    "import pandas as pd\n",
    "from sklearn.ensemble import RandomForestRegressor\n",
    "from sklearn.model_selection import train_test_split\n",
    "import seaborn as sns\n",
    "sns.set_style(\"darkgrid\")\n",
    "%matplotlib inline\n",
    "\n",
    "\n",
    "features = pd.read_csv('../data/insurance_cust_retention.csv')\n",
    "features.head()"
   ]
  },
  {
   "cell_type": "markdown",
   "metadata": {},
   "source": [
    "## Identify Anomalies/ Missing Data"
   ]
  },
  {
   "cell_type": "code",
   "execution_count": 2,
   "metadata": {},
   "outputs": [
    {
     "name": "stdout",
     "output_type": "stream",
     "text": [
      "The shape of our features is: (20020, 14)\n"
     ]
    }
   ],
   "source": [
    "print('The shape of our features is:', features.shape)"
   ]
  },
  {
   "cell_type": "markdown",
   "metadata": {},
   "source": [
    "To identify anomalies, we can quickly compute summary statistics."
   ]
  },
  {
   "cell_type": "code",
   "execution_count": 3,
   "metadata": {},
   "outputs": [
    {
     "data": {
      "text/html": [
       "<div>\n",
       "<style scoped>\n",
       "    .dataframe tbody tr th:only-of-type {\n",
       "        vertical-align: middle;\n",
       "    }\n",
       "\n",
       "    .dataframe tbody tr th {\n",
       "        vertical-align: top;\n",
       "    }\n",
       "\n",
       "    .dataframe thead th {\n",
       "        text-align: right;\n",
       "    }\n",
       "</style>\n",
       "<table border=\"1\" class=\"dataframe\">\n",
       "  <thead>\n",
       "    <tr style=\"text-align: right;\">\n",
       "      <th></th>\n",
       "      <th>AGE</th>\n",
       "      <th>Car Value</th>\n",
       "      <th>Years of No Claims Bonus</th>\n",
       "      <th>Annual Mileage</th>\n",
       "      <th>Years of Tenure with Current Provider</th>\n",
       "      <th>Price</th>\n",
       "      <th>Renewed?</th>\n",
       "    </tr>\n",
       "  </thead>\n",
       "  <tbody>\n",
       "    <tr>\n",
       "      <th>count</th>\n",
       "      <td>20020.000000</td>\n",
       "      <td>20020.000000</td>\n",
       "      <td>20020.000000</td>\n",
       "      <td>20020.000000</td>\n",
       "      <td>20020.000000</td>\n",
       "      <td>20017.000000</td>\n",
       "      <td>20020.000000</td>\n",
       "    </tr>\n",
       "    <tr>\n",
       "      <th>mean</th>\n",
       "      <td>44.744555</td>\n",
       "      <td>3686.924126</td>\n",
       "      <td>5.757143</td>\n",
       "      <td>6528.061239</td>\n",
       "      <td>2.479620</td>\n",
       "      <td>422.485702</td>\n",
       "      <td>0.621329</td>\n",
       "    </tr>\n",
       "    <tr>\n",
       "      <th>std</th>\n",
       "      <td>12.680561</td>\n",
       "      <td>3981.033913</td>\n",
       "      <td>2.894185</td>\n",
       "      <td>3585.303675</td>\n",
       "      <td>0.853137</td>\n",
       "      <td>262.424727</td>\n",
       "      <td>0.485068</td>\n",
       "    </tr>\n",
       "    <tr>\n",
       "      <th>min</th>\n",
       "      <td>17.000000</td>\n",
       "      <td>0.000000</td>\n",
       "      <td>0.000000</td>\n",
       "      <td>1.000000</td>\n",
       "      <td>1.000000</td>\n",
       "      <td>96.000000</td>\n",
       "      <td>0.000000</td>\n",
       "    </tr>\n",
       "    <tr>\n",
       "      <th>25%</th>\n",
       "      <td>36.000000</td>\n",
       "      <td>1000.000000</td>\n",
       "      <td>3.000000</td>\n",
       "      <td>4000.000000</td>\n",
       "      <td>2.000000</td>\n",
       "      <td>264.200000</td>\n",
       "      <td>0.000000</td>\n",
       "    </tr>\n",
       "    <tr>\n",
       "      <th>50%</th>\n",
       "      <td>44.000000</td>\n",
       "      <td>2500.000000</td>\n",
       "      <td>6.000000</td>\n",
       "      <td>5200.000000</td>\n",
       "      <td>2.000000</td>\n",
       "      <td>357.300000</td>\n",
       "      <td>1.000000</td>\n",
       "    </tr>\n",
       "    <tr>\n",
       "      <th>75%</th>\n",
       "      <td>52.000000</td>\n",
       "      <td>5000.000000</td>\n",
       "      <td>9.000000</td>\n",
       "      <td>9000.000000</td>\n",
       "      <td>3.000000</td>\n",
       "      <td>501.700000</td>\n",
       "      <td>1.000000</td>\n",
       "    </tr>\n",
       "    <tr>\n",
       "      <th>max</th>\n",
       "      <td>89.000000</td>\n",
       "      <td>60000.000000</td>\n",
       "      <td>9.000000</td>\n",
       "      <td>70000.000000</td>\n",
       "      <td>4.000000</td>\n",
       "      <td>4449.900000</td>\n",
       "      <td>1.000000</td>\n",
       "    </tr>\n",
       "  </tbody>\n",
       "</table>\n",
       "</div>"
      ],
      "text/plain": [
       "                AGE     Car Value  Years of No Claims Bonus  Annual Mileage  \\\n",
       "count  20020.000000  20020.000000              20020.000000    20020.000000   \n",
       "mean      44.744555   3686.924126                  5.757143     6528.061239   \n",
       "std       12.680561   3981.033913                  2.894185     3585.303675   \n",
       "min       17.000000      0.000000                  0.000000        1.000000   \n",
       "25%       36.000000   1000.000000                  3.000000     4000.000000   \n",
       "50%       44.000000   2500.000000                  6.000000     5200.000000   \n",
       "75%       52.000000   5000.000000                  9.000000     9000.000000   \n",
       "max       89.000000  60000.000000                  9.000000    70000.000000   \n",
       "\n",
       "       Years of Tenure with Current Provider         Price      Renewed?  \n",
       "count                           20020.000000  20017.000000  20020.000000  \n",
       "mean                                2.479620    422.485702      0.621329  \n",
       "std                                 0.853137    262.424727      0.485068  \n",
       "min                                 1.000000     96.000000      0.000000  \n",
       "25%                                 2.000000    264.200000      0.000000  \n",
       "50%                                 2.000000    357.300000      1.000000  \n",
       "75%                                 3.000000    501.700000      1.000000  \n",
       "max                                 4.000000   4449.900000      1.000000  "
      ]
     },
     "execution_count": 3,
     "metadata": {},
     "output_type": "execute_result"
    }
   ],
   "source": [
    "# Descriptive statistics for each column\n",
    "features.describe()"
   ]
  },
  {
   "cell_type": "markdown",
   "metadata": {},
   "source": [
    "As we can see that the Price Column has 3 missing value, lets remove the rows containing the missing values"
   ]
  },
  {
   "cell_type": "code",
   "execution_count": 4,
   "metadata": {},
   "outputs": [],
   "source": [
    "features = features.dropna(how='any',axis=0)"
   ]
  },
  {
   "cell_type": "markdown",
   "metadata": {},
   "source": [
    "## Getting Relational Insights of Features"
   ]
  },
  {
   "cell_type": "code",
   "execution_count": 5,
   "metadata": {},
   "outputs": [],
   "source": [
    "def multiple_categorical_features_visual_insights(dataframe, first_feature, second_feature):\n",
    "    data = []\n",
    "    labels = []\n",
    "    \n",
    "    second_feature_unique_list = dataframe[second_feature].unique()\n",
    "    for second_feature_unique_item in second_feature_unique_list:\n",
    "        \n",
    "        data.append(dataframe[first_feature][dataframe[second_feature] == second_feature_unique_item])\n",
    "        labels.append(\"{}{}{}\".format(second_feature, ' = ', second_feature_unique_item))\n",
    "     \n",
    "    # Plotting the impact of feature 1 against feature 2\n",
    "    sns.set(rc={'figure.figsize':(8,5)})\n",
    "    plt.hist(data, \n",
    "             bins=10, label=labels);\n",
    "\n",
    "    plt.legend(loc='upper right');\n",
    "    plt.xlabel(first_feature);\n",
    "    plt.ylabel(second_feature);\n",
    "    \n",
    "            \n",
    "def multiple_categorical_features_data_insights(dataframe, first_feature, second_feature):\n",
    "    \n",
    "    print('Feature Distribution Count: ')\n",
    "    df_feature_count_groupby = dataframe.groupby([first_feature,second_feature]).size().unstack(fill_value=0).add_prefix(second_feature)\n",
    "    print(df_feature_count_groupby)\n",
    "\n",
    "    print('Feature Distribution Percentage: ')\n",
    "    df_feature_percentage = df_feature_count_groupby.div(df_feature_count_groupby.sum(axis=1), axis=0).round(3)\n",
    "    print(df_feature_percentage)\n",
    "    \n",
    "\n",
    "def multiple_categorical_features_all_insights(dataframe, first_feature, second_feature):\n",
    "    multiple_categorical_features_data_insights(dataframe, first_feature, second_feature)\n",
    "    multiple_categorical_features_visual_insights(dataframe, first_feature, second_feature)\n",
    "\n",
    "        "
   ]
  },
  {
   "cell_type": "code",
   "execution_count": 6,
   "metadata": {},
   "outputs": [
    {
     "name": "stdout",
     "output_type": "stream",
     "text": [
      "Feature Distribution Count: \n",
      "Renewed?        Renewed?0  Renewed?1\n",
      "Marital Status                      \n",
      "D                     590        980\n",
      "M                    4055       6730\n",
      "S                    2728       4396\n",
      "V                      32         53\n",
      "W                     173        280\n",
      "Feature Distribution Percentage: \n",
      "Renewed?        Renewed?0  Renewed?1\n",
      "Marital Status                      \n",
      "D                   0.376      0.624\n",
      "M                   0.376      0.624\n",
      "S                   0.383      0.617\n",
      "V                   0.376      0.624\n",
      "W                   0.382      0.618\n"
     ]
    },
    {
     "name": "stderr",
     "output_type": "stream",
     "text": [
      "C:\\ProgramData\\Anaconda3\\lib\\site-packages\\numpy\\core\\_asarray.py:83: VisibleDeprecationWarning: Creating an ndarray from ragged nested sequences (which is a list-or-tuple of lists-or-tuples-or ndarrays with different lengths or shapes) is deprecated. If you meant to do this, you must specify 'dtype=object' when creating the ndarray\n",
      "  return array(a, dtype, copy=False, order=order)\n"
     ]
    },
    {
     "data": {
      "image/png": "[encoded data removed]",
      "text/plain": [
       "<Figure size 576x360 with 1 Axes>"
      ]
     },
     "metadata": {},
     "output_type": "display_data"
    }
   ],
   "source": [
    "multiple_categorical_features_all_insights(features, 'Marital Status', 'Renewed?')"
   ]
  },
  {
   "cell_type": "code",
   "execution_count": 7,
   "metadata": {},
   "outputs": [
    {
     "name": "stderr",
     "output_type": "stream",
     "text": [
      "C:\\ProgramData\\Anaconda3\\lib\\site-packages\\numpy\\core\\_asarray.py:83: VisibleDeprecationWarning: Creating an ndarray from ragged nested sequences (which is a list-or-tuple of lists-or-tuples-or ndarrays with different lengths or shapes) is deprecated. If you meant to do this, you must specify 'dtype=object' when creating the ndarray\n",
      "  return array(a, dtype, copy=False, order=order)\n"
     ]
    },
    {
     "data": {
      "image/png": "[encoded data removed]",
      "text/plain": [
       "<Figure size 576x360 with 1 Axes>"
      ]
     },
     "metadata": {},
     "output_type": "display_data"
    }
   ],
   "source": [
    "multiple_categorical_features_visual_insights(features, 'AGE', 'Renewed?')"
   ]
  },
  {
   "cell_type": "code",
   "execution_count": 8,
   "metadata": {},
   "outputs": [
    {
     "name": "stdout",
     "output_type": "stream",
     "text": [
      "Feature Distribution Count: \n",
      "Renewed?  Renewed?0  Renewed?1\n",
      "Gender                        \n",
      "C                 3         17\n",
      "F              3389       5665\n",
      "M              4186       6757\n",
      "Feature Distribution Percentage: \n",
      "Renewed?  Renewed?0  Renewed?1\n",
      "Gender                        \n",
      "C             0.150      0.850\n",
      "F             0.374      0.626\n",
      "M             0.383      0.617\n"
     ]
    },
    {
     "name": "stderr",
     "output_type": "stream",
     "text": [
      "C:\\ProgramData\\Anaconda3\\lib\\site-packages\\numpy\\core\\_asarray.py:83: VisibleDeprecationWarning: Creating an ndarray from ragged nested sequences (which is a list-or-tuple of lists-or-tuples-or ndarrays with different lengths or shapes) is deprecated. If you meant to do this, you must specify 'dtype=object' when creating the ndarray\n",
      "  return array(a, dtype, copy=False, order=order)\n"
     ]
    },
    {
     "data": {
      "image/png": "[encoded data removed]",
      "text/plain": [
       "<Figure size 576x360 with 1 Axes>"
      ]
     },
     "metadata": {},
     "output_type": "display_data"
    }
   ],
   "source": [
    "multiple_categorical_features_all_insights(features, 'Gender', 'Renewed?')"
   ]
  },
  {
   "cell_type": "code",
   "execution_count": 9,
   "metadata": {},
   "outputs": [
    {
     "name": "stderr",
     "output_type": "stream",
     "text": [
      "C:\\ProgramData\\Anaconda3\\lib\\site-packages\\numpy\\core\\_asarray.py:83: VisibleDeprecationWarning: Creating an ndarray from ragged nested sequences (which is a list-or-tuple of lists-or-tuples-or ndarrays with different lengths or shapes) is deprecated. If you meant to do this, you must specify 'dtype=object' when creating the ndarray\n",
      "  return array(a, dtype, copy=False, order=order)\n"
     ]
    },
    {
     "data": {
      "image/png": "[encoded data removed]",
      "text/plain": [
       "<Figure size 576x360 with 1 Axes>"
      ]
     },
     "metadata": {},
     "output_type": "display_data"
    }
   ],
   "source": [
    "multiple_categorical_features_visual_insights(features, 'Car Value', 'Renewed?')"
   ]
  },
  {
   "cell_type": "code",
   "execution_count": 10,
   "metadata": {},
   "outputs": [
    {
     "name": "stdout",
     "output_type": "stream",
     "text": [
      "Feature Distribution Count: \n",
      "Renewed?        Renewed?0  Renewed?1\n",
      "Payment Method                      \n",
      "Annual               2841       2651\n",
      "Monthly              4737       9788\n",
      "Feature Distribution Percentage: \n",
      "Renewed?        Renewed?0  Renewed?1\n",
      "Payment Method                      \n",
      "Annual              0.517      0.483\n",
      "Monthly             0.326      0.674\n"
     ]
    },
    {
     "name": "stderr",
     "output_type": "stream",
     "text": [
      "C:\\ProgramData\\Anaconda3\\lib\\site-packages\\numpy\\core\\_asarray.py:83: VisibleDeprecationWarning: Creating an ndarray from ragged nested sequences (which is a list-or-tuple of lists-or-tuples-or ndarrays with different lengths or shapes) is deprecated. If you meant to do this, you must specify 'dtype=object' when creating the ndarray\n",
      "  return array(a, dtype, copy=False, order=order)\n"
     ]
    },
    {
     "data": {
      "image/png": "[encoded data removed]",
      "text/plain": [
       "<Figure size 576x360 with 1 Axes>"
      ]
     },
     "metadata": {},
     "output_type": "display_data"
    }
   ],
   "source": [
    "multiple_categorical_features_all_insights(features, 'Payment Method', 'Renewed?')"
   ]
  },
  {
   "cell_type": "code",
   "execution_count": 11,
   "metadata": {},
   "outputs": [
    {
     "name": "stdout",
     "output_type": "stream",
     "text": [
      "Feature Distribution Count: \n",
      "Renewed?             Renewed?0  Renewed?1\n",
      "Acquisition Channel                      \n",
      "Aggreg                       5          7\n",
      "Direct                    1481       2457\n",
      "Inbound                   6089       9975\n",
      "Outbound                     3          0\n",
      "Feature Distribution Percentage: \n",
      "Renewed?             Renewed?0  Renewed?1\n",
      "Acquisition Channel                      \n",
      "Aggreg                   0.417      0.583\n",
      "Direct                   0.376      0.624\n",
      "Inbound                  0.379      0.621\n",
      "Outbound                 1.000      0.000\n"
     ]
    },
    {
     "name": "stderr",
     "output_type": "stream",
     "text": [
      "C:\\ProgramData\\Anaconda3\\lib\\site-packages\\numpy\\core\\_asarray.py:83: VisibleDeprecationWarning: Creating an ndarray from ragged nested sequences (which is a list-or-tuple of lists-or-tuples-or ndarrays with different lengths or shapes) is deprecated. If you meant to do this, you must specify 'dtype=object' when creating the ndarray\n",
      "  return array(a, dtype, copy=False, order=order)\n"
     ]
    },
    {
     "data": {
      "image/png": "[encoded data removed]",
      "text/plain": [
       "<Figure size 576x360 with 1 Axes>"
      ]
     },
     "metadata": {},
     "output_type": "display_data"
    }
   ],
   "source": [
    "multiple_categorical_features_all_insights(features, 'Acquisition Channel', 'Renewed?')"
   ]
  },
  {
   "cell_type": "code",
   "execution_count": 12,
   "metadata": {},
   "outputs": [
    {
     "name": "stdout",
     "output_type": "stream",
     "text": [
      "Feature Distribution Count: \n",
      "Renewed?                               Renewed?0  Renewed?1\n",
      "Years of Tenure with Current Provider                      \n",
      "1                                            744        837\n",
      "2                                           4117       6344\n",
      "3                                           1665       3104\n",
      "4                                           1052       2154\n",
      "Feature Distribution Percentage: \n",
      "Renewed?                               Renewed?0  Renewed?1\n",
      "Years of Tenure with Current Provider                      \n",
      "1                                          0.471      0.529\n",
      "2                                          0.394      0.606\n",
      "3                                          0.349      0.651\n",
      "4                                          0.328      0.672\n"
     ]
    },
    {
     "name": "stderr",
     "output_type": "stream",
     "text": [
      "C:\\ProgramData\\Anaconda3\\lib\\site-packages\\numpy\\core\\_asarray.py:83: VisibleDeprecationWarning: Creating an ndarray from ragged nested sequences (which is a list-or-tuple of lists-or-tuples-or ndarrays with different lengths or shapes) is deprecated. If you meant to do this, you must specify 'dtype=object' when creating the ndarray\n",
      "  return array(a, dtype, copy=False, order=order)\n"
     ]
    },
    {
     "data": {
      "image/png": "[encoded data removed]",
      "text/plain": [
       "<Figure size 576x360 with 1 Axes>"
      ]
     },
     "metadata": {},
     "output_type": "display_data"
    }
   ],
   "source": [
    "multiple_categorical_features_all_insights(features, 'Years of Tenure with Current Provider', 'Renewed?')"
   ]
  },
  {
   "cell_type": "code",
   "execution_count": 13,
   "metadata": {},
   "outputs": [
    {
     "name": "stdout",
     "output_type": "stream",
     "text": [
      "<class 'pandas.core.frame.DataFrame'>\n",
      "Int64Index: 20017 entries, 0 to 20019\n",
      "Data columns (total 14 columns):\n",
      " #   Column                                 Non-Null Count  Dtype  \n",
      "---  ------                                 --------------  -----  \n",
      " 0   Marital Status                         20017 non-null  object \n",
      " 1   AGE                                    20017 non-null  int64  \n",
      " 2   Gender                                 20017 non-null  object \n",
      " 3   Car Value                              20017 non-null  int64  \n",
      " 4   Years of No Claims Bonus               20017 non-null  int64  \n",
      " 5   Annual Mileage                         20017 non-null  int64  \n",
      " 6   Payment Method                         20017 non-null  object \n",
      " 7   Acquisition Channel                    20017 non-null  object \n",
      " 8   Years of Tenure with Current Provider  20017 non-null  int64  \n",
      " 9   Price                                  20017 non-null  float64\n",
      " 10  Actual Change in Price vs last Year    20017 non-null  object \n",
      " 11  % Change in Price vs last Year         20017 non-null  object \n",
      " 12  Grouped Change in Price                20017 non-null  object \n",
      " 13  Renewed?                               20017 non-null  int64  \n",
      "dtypes: float64(1), int64(6), object(7)\n",
      "memory usage: 2.3+ MB\n"
     ]
    }
   ],
   "source": [
    "features.info()"
   ]
  },
  {
   "cell_type": "markdown",
   "metadata": {},
   "source": [
    "## Converting Categorical Data to Numeric Data"
   ]
  },
  {
   "cell_type": "code",
   "execution_count": 14,
   "metadata": {},
   "outputs": [],
   "source": [
    "features['Actual Change in Price vs last Year'] = pd.to_numeric(features['Actual Change in Price vs last Year'])\n",
    "features['% Change in Price vs last Year'] = features['% Change in Price vs last Year'].str.rstrip('%').astype('float') / 100.0\n",
    "features['Grouped Change in Price'] = pd.to_numeric(features['Grouped Change in Price'])"
   ]
  },
  {
   "cell_type": "code",
   "execution_count": 15,
   "metadata": {},
   "outputs": [
    {
     "name": "stdout",
     "output_type": "stream",
     "text": [
      "<class 'pandas.core.frame.DataFrame'>\n",
      "Int64Index: 20017 entries, 0 to 20019\n",
      "Data columns (total 14 columns):\n",
      " #   Column                                 Non-Null Count  Dtype  \n",
      "---  ------                                 --------------  -----  \n",
      " 0   Marital Status                         20017 non-null  object \n",
      " 1   AGE                                    20017 non-null  int64  \n",
      " 2   Gender                                 20017 non-null  object \n",
      " 3   Car Value                              20017 non-null  int64  \n",
      " 4   Years of No Claims Bonus               20017 non-null  int64  \n",
      " 5   Annual Mileage                         20017 non-null  int64  \n",
      " 6   Payment Method                         20017 non-null  object \n",
      " 7   Acquisition Channel                    20017 non-null  object \n",
      " 8   Years of Tenure with Current Provider  20017 non-null  int64  \n",
      " 9   Price                                  20017 non-null  float64\n",
      " 10  Actual Change in Price vs last Year    20017 non-null  float64\n",
      " 11  % Change in Price vs last Year         20017 non-null  float64\n",
      " 12  Grouped Change in Price                20017 non-null  float64\n",
      " 13  Renewed?                               20017 non-null  int64  \n",
      "dtypes: float64(4), int64(6), object(4)\n",
      "memory usage: 2.3+ MB\n"
     ]
    }
   ],
   "source": [
    "features.info()"
   ]
  },
  {
   "cell_type": "markdown",
   "metadata": {},
   "source": [
    "### Encoding the Categorical Data"
   ]
  },
  {
   "cell_type": "code",
   "execution_count": 16,
   "metadata": {},
   "outputs": [
    {
     "data": {
      "text/html": [
       "<div>\n",
       "<style scoped>\n",
       "    .dataframe tbody tr th:only-of-type {\n",
       "        vertical-align: middle;\n",
       "    }\n",
       "\n",
       "    .dataframe tbody tr th {\n",
       "        vertical-align: top;\n",
       "    }\n",
       "\n",
       "    .dataframe thead th {\n",
       "        text-align: right;\n",
       "    }\n",
       "</style>\n",
       "<table border=\"1\" class=\"dataframe\">\n",
       "  <thead>\n",
       "    <tr style=\"text-align: right;\">\n",
       "      <th></th>\n",
       "      <th>AGE</th>\n",
       "      <th>Car Value</th>\n",
       "      <th>Years of No Claims Bonus</th>\n",
       "      <th>Annual Mileage</th>\n",
       "      <th>Years of Tenure with Current Provider</th>\n",
       "      <th>Price</th>\n",
       "      <th>Actual Change in Price vs last Year</th>\n",
       "      <th>% Change in Price vs last Year</th>\n",
       "      <th>Grouped Change in Price</th>\n",
       "      <th>Renewed?</th>\n",
       "      <th>...</th>\n",
       "      <th>Marital Status_W</th>\n",
       "      <th>Gender_C</th>\n",
       "      <th>Gender_F</th>\n",
       "      <th>Gender_M</th>\n",
       "      <th>Payment Method_Annual</th>\n",
       "      <th>Payment Method_Monthly</th>\n",
       "      <th>Acquisition Channel_Aggreg</th>\n",
       "      <th>Acquisition Channel_Direct</th>\n",
       "      <th>Acquisition Channel_Inbound</th>\n",
       "      <th>Acquisition Channel_Outbound</th>\n",
       "    </tr>\n",
       "  </thead>\n",
       "  <tbody>\n",
       "    <tr>\n",
       "      <th>0</th>\n",
       "      <td>45</td>\n",
       "      <td>500</td>\n",
       "      <td>4</td>\n",
       "      <td>6000</td>\n",
       "      <td>4</td>\n",
       "      <td>289.4</td>\n",
       "      <td>-11.94</td>\n",
       "      <td>-0.0396</td>\n",
       "      <td>-0.05</td>\n",
       "      <td>0</td>\n",
       "      <td>...</td>\n",
       "      <td>0</td>\n",
       "      <td>0</td>\n",
       "      <td>1</td>\n",
       "      <td>0</td>\n",
       "      <td>0</td>\n",
       "      <td>1</td>\n",
       "      <td>0</td>\n",
       "      <td>0</td>\n",
       "      <td>1</td>\n",
       "      <td>0</td>\n",
       "    </tr>\n",
       "    <tr>\n",
       "      <th>1</th>\n",
       "      <td>40</td>\n",
       "      <td>3000</td>\n",
       "      <td>8</td>\n",
       "      <td>6000</td>\n",
       "      <td>4</td>\n",
       "      <td>170.4</td>\n",
       "      <td>45.62</td>\n",
       "      <td>0.3700</td>\n",
       "      <td>0.35</td>\n",
       "      <td>1</td>\n",
       "      <td>...</td>\n",
       "      <td>0</td>\n",
       "      <td>0</td>\n",
       "      <td>0</td>\n",
       "      <td>1</td>\n",
       "      <td>0</td>\n",
       "      <td>1</td>\n",
       "      <td>0</td>\n",
       "      <td>0</td>\n",
       "      <td>1</td>\n",
       "      <td>0</td>\n",
       "    </tr>\n",
       "    <tr>\n",
       "      <th>2</th>\n",
       "      <td>25</td>\n",
       "      <td>4000</td>\n",
       "      <td>4</td>\n",
       "      <td>4000</td>\n",
       "      <td>4</td>\n",
       "      <td>466.1</td>\n",
       "      <td>-123.15</td>\n",
       "      <td>-0.2100</td>\n",
       "      <td>-0.20</td>\n",
       "      <td>1</td>\n",
       "      <td>...</td>\n",
       "      <td>0</td>\n",
       "      <td>0</td>\n",
       "      <td>1</td>\n",
       "      <td>0</td>\n",
       "      <td>0</td>\n",
       "      <td>1</td>\n",
       "      <td>0</td>\n",
       "      <td>0</td>\n",
       "      <td>1</td>\n",
       "      <td>0</td>\n",
       "    </tr>\n",
       "    <tr>\n",
       "      <th>3</th>\n",
       "      <td>42</td>\n",
       "      <td>1800</td>\n",
       "      <td>9</td>\n",
       "      <td>10000</td>\n",
       "      <td>4</td>\n",
       "      <td>245.1</td>\n",
       "      <td>2.34</td>\n",
       "      <td>0.0100</td>\n",
       "      <td>0.00</td>\n",
       "      <td>1</td>\n",
       "      <td>...</td>\n",
       "      <td>0</td>\n",
       "      <td>0</td>\n",
       "      <td>0</td>\n",
       "      <td>1</td>\n",
       "      <td>1</td>\n",
       "      <td>0</td>\n",
       "      <td>0</td>\n",
       "      <td>0</td>\n",
       "      <td>1</td>\n",
       "      <td>0</td>\n",
       "    </tr>\n",
       "    <tr>\n",
       "      <th>4</th>\n",
       "      <td>59</td>\n",
       "      <td>5000</td>\n",
       "      <td>9</td>\n",
       "      <td>3000</td>\n",
       "      <td>4</td>\n",
       "      <td>240.5</td>\n",
       "      <td>42.56</td>\n",
       "      <td>0.2200</td>\n",
       "      <td>0.20</td>\n",
       "      <td>0</td>\n",
       "      <td>...</td>\n",
       "      <td>0</td>\n",
       "      <td>0</td>\n",
       "      <td>0</td>\n",
       "      <td>1</td>\n",
       "      <td>1</td>\n",
       "      <td>0</td>\n",
       "      <td>0</td>\n",
       "      <td>0</td>\n",
       "      <td>1</td>\n",
       "      <td>0</td>\n",
       "    </tr>\n",
       "  </tbody>\n",
       "</table>\n",
       "<p>5 rows × 24 columns</p>\n",
       "</div>"
      ],
      "text/plain": [
       "   AGE  Car Value  Years of No Claims Bonus  Annual Mileage  \\\n",
       "0   45        500                         4            6000   \n",
       "1   40       3000                         8            6000   \n",
       "2   25       4000                         4            4000   \n",
       "3   42       1800                         9           10000   \n",
       "4   59       5000                         9            3000   \n",
       "\n",
       "   Years of Tenure with Current Provider  Price  \\\n",
       "0                                      4  289.4   \n",
       "1                                      4  170.4   \n",
       "2                                      4  466.1   \n",
       "3                                      4  245.1   \n",
       "4                                      4  240.5   \n",
       "\n",
       "   Actual Change in Price vs last Year  % Change in Price vs last Year  \\\n",
       "0                               -11.94                         -0.0396   \n",
       "1                                45.62                          0.3700   \n",
       "2                              -123.15                         -0.2100   \n",
       "3                                 2.34                          0.0100   \n",
       "4                                42.56                          0.2200   \n",
       "\n",
       "   Grouped Change in Price  Renewed?  ...  Marital Status_W  Gender_C  \\\n",
       "0                    -0.05         0  ...                 0         0   \n",
       "1                     0.35         1  ...                 0         0   \n",
       "2                    -0.20         1  ...                 0         0   \n",
       "3                     0.00         1  ...                 0         0   \n",
       "4                     0.20         0  ...                 0         0   \n",
       "\n",
       "   Gender_F  Gender_M  Payment Method_Annual  Payment Method_Monthly  \\\n",
       "0         1         0                      0                       1   \n",
       "1         0         1                      0                       1   \n",
       "2         1         0                      0                       1   \n",
       "3         0         1                      1                       0   \n",
       "4         0         1                      1                       0   \n",
       "\n",
       "   Acquisition Channel_Aggreg  Acquisition Channel_Direct  \\\n",
       "0                           0                           0   \n",
       "1                           0                           0   \n",
       "2                           0                           0   \n",
       "3                           0                           0   \n",
       "4                           0                           0   \n",
       "\n",
       "   Acquisition Channel_Inbound  Acquisition Channel_Outbound  \n",
       "0                            1                             0  \n",
       "1                            1                             0  \n",
       "2                            1                             0  \n",
       "3                            1                             0  \n",
       "4                            1                             0  \n",
       "\n",
       "[5 rows x 24 columns]"
      ]
     },
     "execution_count": 16,
     "metadata": {},
     "output_type": "execute_result"
    }
   ],
   "source": [
    "# One-hot encode the data using pandas get_dummies\n",
    "features = pd.get_dummies(features)\n",
    "features.head()"
   ]
  },
  {
   "cell_type": "markdown",
   "metadata": {},
   "source": [
    "### Features and Targets and Convert Data to Arrays"
   ]
  },
  {
   "cell_type": "code",
   "execution_count": 17,
   "metadata": {},
   "outputs": [],
   "source": [
    "# Labels are the values we want to predict\n",
    "labels = np.array(features['Renewed?'])\n",
    "# Remove the labels from the features\n",
    "# axis 1 refers to the columns\n",
    "features= features.drop('Renewed?', axis = 1)\n",
    "# Saving feature names for later use\n",
    "feature_list = list(features.columns)\n",
    "# Convert to numpy array\n",
    "features = np.array(features)"
   ]
  },
  {
   "cell_type": "markdown",
   "metadata": {},
   "source": [
    "### Training and Testing Sets"
   ]
  },
  {
   "cell_type": "code",
   "execution_count": 18,
   "metadata": {},
   "outputs": [],
   "source": [
    "# Using Skicit-learn to split data into training and testing sets\n",
    "from sklearn.model_selection import train_test_split\n",
    "\n",
    "# Split the data into training and testing sets\n",
    "train_features, test_features, train_labels, test_labels = train_test_split(features, labels, test_size = 0.2,\n",
    "                                                                            random_state = 42)\n",
    "\n",
    "# X_train, X_test, y_train, y_test = train_test_split(X, y, test_size=0.2, random_state=0)"
   ]
  },
  {
   "cell_type": "code",
   "execution_count": 19,
   "metadata": {},
   "outputs": [
    {
     "name": "stdout",
     "output_type": "stream",
     "text": [
      "Training Features Shape: (16013, 23)\n",
      "Training Labels Shape: (16013,)\n",
      "Testing Features Shape: (4004, 23)\n",
      "Testing Labels Shape: (4004,)\n"
     ]
    }
   ],
   "source": [
    "print('Training Features Shape:', train_features.shape)\n",
    "print('Training Labels Shape:', train_labels.shape)\n",
    "print('Testing Features Shape:', test_features.shape)\n",
    "print('Testing Labels Shape:', test_labels.shape)"
   ]
  },
  {
   "cell_type": "markdown",
   "metadata": {},
   "source": [
    "### Establish Baseline"
   ]
  },
  {
   "cell_type": "markdown",
   "metadata": {},
   "source": [
    "### Train Model"
   ]
  },
  {
   "cell_type": "code",
   "execution_count": 20,
   "metadata": {},
   "outputs": [
    {
     "data": {
      "text/plain": [
       "RandomForestClassifier(n_estimators=1000, random_state=42)"
      ]
     },
     "execution_count": 20,
     "metadata": {},
     "output_type": "execute_result"
    }
   ],
   "source": [
    "#Import Random Forest Model\n",
    "from sklearn.ensemble import RandomForestClassifier\n",
    "\n",
    "#Create a Gaussian Classifier\n",
    "rf=RandomForestClassifier(n_estimators= 1000, random_state=42)\n",
    "\n",
    "#Train the model using the training sets y_pred=clf.predict(X_test)\n",
    "rf.fit(train_features,train_labels)"
   ]
  },
  {
   "cell_type": "markdown",
   "metadata": {},
   "source": [
    "### Make Predictions on Test Data"
   ]
  },
  {
   "cell_type": "code",
   "execution_count": 21,
   "metadata": {},
   "outputs": [
    {
     "name": "stdout",
     "output_type": "stream",
     "text": [
      "Mean Absolute Error: 0.31 degrees.\n"
     ]
    }
   ],
   "source": [
    "# Use the forest's predict method on the test data\n",
    "predictions = rf.predict(test_features)\n",
    "\n",
    "# Calculate the absolute errors\n",
    "errors = abs(predictions - test_labels)\n",
    "\n",
    "# Print out the mean absolute error (mae)\n",
    "print('Mean Absolute Error:', round(np.mean(errors), 2), 'degrees.')"
   ]
  },
  {
   "cell_type": "markdown",
   "metadata": {},
   "source": [
    "### Determine Performance Metrics"
   ]
  },
  {
   "cell_type": "code",
   "execution_count": 22,
   "metadata": {},
   "outputs": [
    {
     "name": "stdout",
     "output_type": "stream",
     "text": [
      "Accuracy: 0.686063936063936\n"
     ]
    }
   ],
   "source": [
    "#Import scikit-learn metrics module for accuracy calculation\n",
    "from sklearn import metrics\n",
    "# Model Accuracy, how often is the classifier correct?\n",
    "print(\"Accuracy:\",metrics.accuracy_score(test_labels, predictions))"
   ]
  },
  {
   "cell_type": "markdown",
   "metadata": {},
   "source": [
    "## Variable Importance"
   ]
  },
  {
   "cell_type": "code",
   "execution_count": 23,
   "metadata": {},
   "outputs": [
    {
     "name": "stdout",
     "output_type": "stream",
     "text": [
      "Variable: Price               , Importance: 0.15\n",
      "Variable: Actual Change in Price vs last Year, Importance: 0.15\n",
      "Variable: AGE                 , Importance: 0.11\n",
      "Variable: Car Value           , Importance: 0.11\n",
      "Variable: % Change in Price vs last Year, Importance: 0.11\n",
      "Variable: Annual Mileage      , Importance: 0.09\n",
      "Variable: Years of No Claims Bonus, Importance: 0.07\n",
      "Variable: Grouped Change in Price, Importance: 0.06\n",
      "Variable: Years of Tenure with Current Provider, Importance: 0.04\n",
      "Variable: Payment Method_Annual, Importance: 0.02\n",
      "Variable: Payment Method_Monthly, Importance: 0.02\n",
      "Variable: Marital Status_D    , Importance: 0.01\n",
      "Variable: Marital Status_M    , Importance: 0.01\n",
      "Variable: Marital Status_S    , Importance: 0.01\n",
      "Variable: Gender_F            , Importance: 0.01\n",
      "Variable: Gender_M            , Importance: 0.01\n",
      "Variable: Acquisition Channel_Direct, Importance: 0.01\n",
      "Variable: Acquisition Channel_Inbound, Importance: 0.01\n",
      "Variable: Marital Status_V    , Importance: 0.0\n",
      "Variable: Marital Status_W    , Importance: 0.0\n",
      "Variable: Gender_C            , Importance: 0.0\n",
      "Variable: Acquisition Channel_Aggreg, Importance: 0.0\n",
      "Variable: Acquisition Channel_Outbound, Importance: 0.0\n"
     ]
    }
   ],
   "source": [
    "# Get numerical feature importances\n",
    "importances = list(rf.feature_importances_)\n",
    "\n",
    "# List of tuples with variable and importance\n",
    "feature_importances = [(feature, round(importance, 2)) for feature, importance in zip(feature_list, importances)]\n",
    "\n",
    "# Sort the feature importances by most important first\n",
    "feature_importances = sorted(feature_importances, key = lambda x: x[1], reverse = True)\n",
    "\n",
    "# Print out the feature and importances \n",
    "[print('Variable: {:20}, Importance: {}'.format(*pair)) for pair in feature_importances];"
   ]
  },
  {
   "cell_type": "markdown",
   "metadata": {},
   "source": [
    "### Plot of Variable Importance"
   ]
  },
  {
   "cell_type": "code",
   "execution_count": 24,
   "metadata": {},
   "outputs": [
    {
     "data": {
      "image/png": "[encoded data removed]",
      "text/plain": [
       "<Figure size 576x360 with 1 Axes>"
      ]
     },
     "metadata": {},
     "output_type": "display_data"
    }
   ],
   "source": [
    "# list of x locations for plotting\n",
    "x_values = list(range(len(importances)))\n",
    "\n",
    "# Make a bar chart\n",
    "plt.bar(x_values, importances, orientation = 'vertical')\n",
    "\n",
    "# Tick labels for x axis\n",
    "plt.xticks(x_values, feature_list, rotation='vertical')\n",
    "\n",
    "# Axis labels and title\n",
    "plt.ylabel('Importance'); plt.xlabel('Variable'); plt.title('Variable Importances');"
   ]
  },
  {
   "cell_type": "markdown",
   "metadata": {},
   "source": [
    "### Model with most important features"
   ]
  },
  {
   "cell_type": "code",
   "execution_count": 25,
   "metadata": {},
   "outputs": [
    {
     "name": "stdout",
     "output_type": "stream",
     "text": [
      "Mean Absolute Error: 0.31 degrees.\n",
      "Accuracy: 0.6858141858141859\n"
     ]
    }
   ],
   "source": [
    "# New random forest with only the two most important variables\n",
    "rf_most_important = RandomForestClassifier(n_estimators= 1000, random_state=42)\n",
    "\n",
    "# Extract the most important features\n",
    "important_indices = [feature_list.index('Actual Change in Price vs last Year'), feature_list.index('Price'), \n",
    "                     feature_list.index('AGE'), feature_list.index('Car Value'), feature_list.index('% Change in Price vs last Year'), \n",
    "                     feature_list.index('Annual Mileage'), feature_list.index('Years of No Claims Bonus'),\n",
    "                     feature_list.index('Grouped Change in Price'), feature_list.index('Years of Tenure with Current Provider'),\n",
    "                     feature_list.index('Payment Method_Annual'), feature_list.index('Payment Method_Monthly'),\n",
    "                     feature_list.index('Gender_F'), feature_list.index('Gender_M'),\n",
    "                     feature_list.index('Acquisition Channel_Direct'), feature_list.index('Acquisition Channel_Inbound'),\n",
    "                     feature_list.index('Marital Status_D'), feature_list.index('Marital Status_M'),\n",
    "                     feature_list.index('Marital Status_S')\n",
    "                    ]\n",
    "\n",
    "\n",
    "# important_indices = [feature_list.index('Actual Change in Price vs last Year'), feature_list.index('Price'), \n",
    "#                      feature_list.index('AGE'), feature_list.index('Car Value'), feature_list.index('% Change in Price vs last Year'), \n",
    "#                      feature_list.index('Annual Mileage'), feature_list.index('Years of No Claims Bonus')\n",
    "#                     ]\n",
    "train_important = train_features[:, important_indices]\n",
    "test_important = test_features[:, important_indices]\n",
    "\n",
    "# Train the random forest\n",
    "rf_most_important.fit(train_important, train_labels)\n",
    "\n",
    "# Make predictions and determine the error\n",
    "predictions = rf_most_important.predict(test_important)\n",
    "\n",
    "errors = abs(predictions - test_labels)\n",
    "\n",
    "# Display the performance metrics\n",
    "print('Mean Absolute Error:', round(np.mean(errors), 2), 'degrees.')\n",
    "\n",
    "# Model Accuracy, how often is the classifier correct?\n",
    "print(\"Accuracy:\",metrics.accuracy_score(test_labels, predictions))"
   ]
  },
  {
   "cell_type": "markdown",
   "metadata": {},
   "source": [
    "# Improving the Model"
   ]
  },
  {
   "cell_type": "markdown",
   "metadata": {},
   "source": [
    "### Hyperparamter Tuning"
   ]
  },
  {
   "cell_type": "code",
   "execution_count": 26,
   "metadata": {},
   "outputs": [
    {
     "name": "stdout",
     "output_type": "stream",
     "text": [
      "Parameters currently in use:\n",
      "\n",
      "{'bootstrap': True,\n",
      " 'ccp_alpha': 0.0,\n",
      " 'class_weight': None,\n",
      " 'criterion': 'gini',\n",
      " 'max_depth': None,\n",
      " 'max_features': 'auto',\n",
      " 'max_leaf_nodes': None,\n",
      " 'max_samples': None,\n",
      " 'min_impurity_decrease': 0.0,\n",
      " 'min_impurity_split': None,\n",
      " 'min_samples_leaf': 1,\n",
      " 'min_samples_split': 2,\n",
      " 'min_weight_fraction_leaf': 0.0,\n",
      " 'n_estimators': 1000,\n",
      " 'n_jobs': None,\n",
      " 'oob_score': False,\n",
      " 'random_state': 42,\n",
      " 'verbose': 0,\n",
      " 'warm_start': False}\n"
     ]
    }
   ],
   "source": [
    "#Import Random Forest Model\n",
    "from sklearn.ensemble import RandomForestClassifier\n",
    "\n",
    "#Create a Gaussian Classifier\n",
    "rf=RandomForestClassifier(n_estimators= 1000, random_state=42)\n",
    "\n",
    "from pprint import pprint\n",
    "# Look at parameters used by our current forest\n",
    "print('Parameters currently in use:\\n')\n",
    "pprint(rf.get_params())"
   ]
  },
  {
   "cell_type": "code",
   "execution_count": 27,
   "metadata": {},
   "outputs": [
    {
     "name": "stdout",
     "output_type": "stream",
     "text": [
      "{'bootstrap': [True, False],\n",
      " 'max_depth': [10, 20, 30, 40, 50, 60, 70, 80, 90, 100, 110, None],\n",
      " 'max_features': ['auto', 'sqrt'],\n",
      " 'min_samples_leaf': [1, 2, 4],\n",
      " 'min_samples_split': [2, 5, 10],\n",
      " 'n_estimators': [200, 400, 600, 800, 1000, 1200, 1400, 1600, 1800, 2000]}\n"
     ]
    }
   ],
   "source": [
    "from sklearn.model_selection import RandomizedSearchCV# Number of trees in random forest\n",
    "n_estimators = [int(x) for x in np.linspace(start = 200, stop = 2000, num = 10)]\n",
    "# Number of features to consider at every split\n",
    "max_features = ['auto', 'sqrt']\n",
    "# Maximum number of levels in tree\n",
    "max_depth = [int(x) for x in np.linspace(10, 110, num = 11)]\n",
    "max_depth.append(None)\n",
    "# Minimum number of samples required to split a node\n",
    "min_samples_split = [2, 5, 10]\n",
    "# Minimum number of samples required at each leaf node\n",
    "min_samples_leaf = [1, 2, 4]\n",
    "# Method of selecting samples for training each tree\n",
    "bootstrap = [True, False]\n",
    "# Create the random grid\n",
    "random_grid = {'n_estimators': n_estimators,\n",
    "               'max_features': max_features,\n",
    "               'max_depth': max_depth,\n",
    "               'min_samples_split': min_samples_split,\n",
    "               'min_samples_leaf': min_samples_leaf,\n",
    "               'bootstrap': bootstrap}\n",
    "\n",
    "pprint(random_grid)"
   ]
  },
  {
   "cell_type": "code",
   "execution_count": null,
   "metadata": {},
   "outputs": [],
   "source": [
    "# Use the random grid to search for best hyperparameters\n",
    "# First create the base model to tune\n",
    "rf = RandomForestClassifier()\n",
    "# Random search of parameters, using 3 fold cross validation, \n",
    "# search across 100 different combinations, and use all available cores\n",
    "rf_random = RandomizedSearchCV(estimator = rf, param_distributions = random_grid, n_iter = 100, cv = 3, verbose=2, random_state=42, n_jobs = -1)# Fit the random search model\n",
    "rf_random.fit(train_features, train_labels)"
   ]
  },
  {
   "cell_type": "code",
   "execution_count": null,
   "metadata": {},
   "outputs": [],
   "source": [
    "# best parameters from fitting the random search\n",
    "rf_random.best_params_"
   ]
  },
  {
   "cell_type": "markdown",
   "metadata": {},
   "source": [
    "### Evaluate Random Search"
   ]
  },
  {
   "cell_type": "code",
   "execution_count": null,
   "metadata": {},
   "outputs": [],
   "source": [
    "def evaluate(model, test_features, test_labels):\n",
    "    predictions = model.predict(test_features)\n",
    "    errors = abs(predictions - test_labels)\n",
    "#     mape = 100 * np.mean(errors / test_labels)\n",
    "#     accuracy = 100 - mape\n",
    "    accuracy = (metrics.accuracy_score(test_labels, predictions))*100\n",
    "    \n",
    "#     print(\"Accuracy:\",metrics.accuracy_score(test_labels, predictions))\n",
    "    print('Model Performance')\n",
    "    print('Average Error: {:0.4f} degrees.'.format(np.mean(errors)))\n",
    "    print('Accuracy = {:0.2f}%.'.format(accuracy))\n",
    "    return accuracy\n",
    "\n",
    "base_model = RandomForestClassifier(n_estimators = 1000, random_state = 42)\n",
    "base_model.fit(train_features, train_labels)\n",
    "base_accuracy = evaluate(base_model, test_features, test_labels)"
   ]
  },
  {
   "cell_type": "code",
   "execution_count": null,
   "metadata": {},
   "outputs": [],
   "source": [
    "best_random = rf_random.best_estimator_\n",
    "random_accuracy = evaluate(best_random, test_features, test_labels)"
   ]
  },
  {
   "cell_type": "code",
   "execution_count": null,
   "metadata": {},
   "outputs": [],
   "source": [
    "print('Improvement of {:0.2f}%.'.format( random_accuracy - base_accuracy))"
   ]
  }
 ],
 "metadata": {
  "anaconda-cloud": {},
  "kernelspec": {
   "display_name": "Python 3",
   "language": "python",
   "name": "python3"
  },
  "language_info": {
   "codemirror_mode": {
    "name": "ipython",
    "version": 3
   },
   "file_extension": ".py",
   "mimetype": "text/x-python",
   "name": "python",
   "nbconvert_exporter": "python",
   "pygments_lexer": "ipython3",
   "version": "3.8.3"
  }
 },
 "nbformat": 4,
 "nbformat_minor": 2
}
